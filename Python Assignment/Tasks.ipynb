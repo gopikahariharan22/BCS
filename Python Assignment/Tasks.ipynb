{
 "cells": [
  {
   "cell_type": "code",
   "execution_count": 2,
   "id": "f784b975",
   "metadata": {},
   "outputs": [
    {
     "name": "stdout",
     "output_type": "stream",
     "text": [
      "Hello\n"
     ]
    }
   ],
   "source": [
    "print(\"Hello\")"
   ]
  },
  {
   "cell_type": "code",
   "execution_count": 1,
   "id": "8c6201de",
   "metadata": {},
   "outputs": [
    {
     "name": "stdout",
     "output_type": "stream",
     "text": [
      "Gopika\n"
     ]
    }
   ],
   "source": [
    "print(\"Gopika\")"
   ]
  },
  {
   "cell_type": "code",
   "execution_count": 9,
   "id": "dcca5965",
   "metadata": {},
   "outputs": [
    {
     "name": "stdout",
     "output_type": "stream",
     "text": [
      "['Inception', 'Interstellar', 'Dunkirk', 'The Dark Knight', 'Memento']\n",
      "[[5, 4, 5, 4, 5], [5, 5, 4, 5, 4], [4, 4, 4, 3, 4], [5, 5, 5, 5, 5], [4, 5, 4, 5, 4]]\n"
     ]
    }
   ],
   "source": [
    "movies = [\n",
    "    {\n",
    "        \"title\": \"Inception\",\n",
    "        \"ratings\": [5, 4, 5, 4, 5]\n",
    "    },\n",
    "    {\n",
    "        \"title\": \"Interstellar\",\n",
    "        \"ratings\": [5, 5, 4, 5, 4]\n",
    "    },\n",
    "    {\n",
    "        \"title\": \"Dunkirk\",\n",
    "        \"ratings\": [4, 4, 4, 3, 4]\n",
    "    },\n",
    "    {\n",
    "        \"title\": \"The Dark Knight\",\n",
    "        \"ratings\": [5, 5, 5, 5, 5]\n",
    "    },\n",
    "    {\n",
    "        \"title\": \"Memento\",\n",
    "        \"ratings\": [4, 5, 4, 5, 4]\n",
    "    },\n",
    "]\n",
    "\n",
    "def get_titles(movies):\n",
    "    return [movie[\"title\"] for movie in movies]\n",
    "\n",
    "def get_ratings(movies):\n",
    "    return [movie[\"ratings\"] for movie in movies]\n",
    "\n",
    "print(get_titles(movies))\n",
    "print(get_ratings(movies))\n",
    "    "
   ]
  },
  {
   "cell_type": "code",
   "execution_count": null,
   "id": "cafdadf1",
   "metadata": {},
   "outputs": [
    {
     "name": "stdout",
     "output_type": "stream",
     "text": [
      "['Alice', 'Charlie']\n"
     ]
    }
   ],
   "source": [
    "guests = [\n",
    "    {\"name\": \"Alice\", \"age\": 25, \"code\": \"VIP123\"},\n",
    "    {\"name\": \"Bob\", \"age\": 17, \"code\": \"VIP123\"},\n",
    "    {\"name\": \"Charlie\", \"age\": 30, \"code\": \"VIP123\"},\n",
    "    {\"name\": \"Dave\", \"age\": 22, \"code\": \"GUEST\"},\n",
    "    {\"name\": \"Eve\", \"age\": 29, \"code\": \"VIP123\"}\n",
    "]\n",
    "\n",
    "blacklist = [\"Dave\", \"Eve\"]\n",
    "PASS_CODE = \"VIP123\"\n",
    "\n",
    "guestlist = [\n",
    "    guest[\"name\"]\n",
    "    for guest in guests\n",
    "    if guest[\"age\"] >= 21\n",
    "    and guest[\"code\"] == PASS_CODE\n",
    "    and guest[\"name\"] not in blacklist\n",
    "]\n",
    "\n",
    "print(guestlist)\n",
    "````````````````````````"
   ]
  }
 ],
 "metadata": {
  "kernelspec": {
   "display_name": "myenv",
   "language": "python",
   "name": "python3"
  },
  "language_info": {
   "codemirror_mode": {
    "name": "ipython",
    "version": 3
   },
   "file_extension": ".py",
   "mimetype": "text/x-python",
   "name": "python",
   "nbconvert_exporter": "python",
   "pygments_lexer": "ipython3",
   "version": "3.13.7"
  }
 },
 "nbformat": 4,
 "nbformat_minor": 5
}
