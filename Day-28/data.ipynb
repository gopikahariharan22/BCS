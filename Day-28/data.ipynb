{
 "cells": [
  {
   "cell_type": "markdown",
   "id": "efe7d7ce",
   "metadata": {},
   "source": [
    "ma"
   ]
  },
  {
   "cell_type": "code",
   "execution_count": null,
   "id": "317581cd",
   "metadata": {},
   "outputs": [],
   "source": []
  }
 ],
 "metadata": {
  "language_info": {
   "name": "python"
  }
 },
 "nbformat": 4,
 "nbformat_minor": 5
}
